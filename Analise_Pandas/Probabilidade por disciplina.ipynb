{
 "cells": [
  {
   "cell_type": "markdown",
   "metadata": {},
   "source": [
    "# SASA - SISTEMA DE ANALISE DE SISTUAÇÕES ACADEMICA"
   ]
  },
  {
   "cell_type": "code",
   "execution_count": 1,
   "metadata": {},
   "outputs": [],
   "source": [
    "import pandas as pd\n",
    "import numpy as np"
   ]
  },
  {
   "cell_type": "markdown",
   "metadata": {},
   "source": [
    "### Lendo os dados"
   ]
  },
  {
   "cell_type": "code",
   "execution_count": 2,
   "metadata": {},
   "outputs": [],
   "source": [
    "dados = pd.read_csv('dateset.csv')"
   ]
  },
  {
   "cell_type": "code",
   "execution_count": 3,
   "metadata": {},
   "outputs": [],
   "source": [
    "date = pd.DataFrame(dados)"
   ]
  },
  {
   "cell_type": "code",
   "execution_count": 4,
   "metadata": {},
   "outputs": [],
   "source": [
    "grouped = date.groupby(['situacaoDisciplina'])"
   ]
  },
  {
   "cell_type": "code",
   "execution_count": 5,
   "metadata": {},
   "outputs": [
    {
     "data": {
      "text/html": [
       "<div>\n",
       "<style scoped>\n",
       "    .dataframe tbody tr th:only-of-type {\n",
       "        vertical-align: middle;\n",
       "    }\n",
       "\n",
       "    .dataframe tbody tr th {\n",
       "        vertical-align: top;\n",
       "    }\n",
       "\n",
       "    .dataframe thead th {\n",
       "        text-align: right;\n",
       "    }\n",
       "</style>\n",
       "<table border=\"1\" class=\"dataframe\">\n",
       "  <thead>\n",
       "    <tr style=\"text-align: right;\">\n",
       "      <th></th>\n",
       "      <th>disciplina</th>\n",
       "      <th>situacaoDisciplina</th>\n",
       "    </tr>\n",
       "  </thead>\n",
       "  <tbody>\n",
       "    <tr>\n",
       "      <th>0</th>\n",
       "      <td>Algoritmo</td>\n",
       "      <td>APROVADO</td>\n",
       "    </tr>\n",
       "    <tr>\n",
       "      <th>1</th>\n",
       "      <td>Algoritmo</td>\n",
       "      <td>REPROVADO</td>\n",
       "    </tr>\n",
       "    <tr>\n",
       "      <th>2</th>\n",
       "      <td>Algoritmo</td>\n",
       "      <td>REPROVADO</td>\n",
       "    </tr>\n",
       "    <tr>\n",
       "      <th>3</th>\n",
       "      <td>Algoritmo</td>\n",
       "      <td>APROVADO</td>\n",
       "    </tr>\n",
       "    <tr>\n",
       "      <th>4</th>\n",
       "      <td>Algoritmo</td>\n",
       "      <td>APROVADO</td>\n",
       "    </tr>\n",
       "    <tr>\n",
       "      <th>5</th>\n",
       "      <td>Algoritmo</td>\n",
       "      <td>APROVADO</td>\n",
       "    </tr>\n",
       "    <tr>\n",
       "      <th>6</th>\n",
       "      <td>Algoritmo</td>\n",
       "      <td>APROVADO</td>\n",
       "    </tr>\n",
       "    <tr>\n",
       "      <th>7</th>\n",
       "      <td>Algoritmo</td>\n",
       "      <td>APROVADO</td>\n",
       "    </tr>\n",
       "    <tr>\n",
       "      <th>8</th>\n",
       "      <td>Algoritmo</td>\n",
       "      <td>REPROVADO</td>\n",
       "    </tr>\n",
       "    <tr>\n",
       "      <th>9</th>\n",
       "      <td>Algoritmo</td>\n",
       "      <td>APROVADO</td>\n",
       "    </tr>\n",
       "    <tr>\n",
       "      <th>10</th>\n",
       "      <td>Algoritmo</td>\n",
       "      <td>APROVADO</td>\n",
       "    </tr>\n",
       "    <tr>\n",
       "      <th>11</th>\n",
       "      <td>Algoritmo</td>\n",
       "      <td>REPROVADO</td>\n",
       "    </tr>\n",
       "    <tr>\n",
       "      <th>12</th>\n",
       "      <td>Algoritmo</td>\n",
       "      <td>APROVADO</td>\n",
       "    </tr>\n",
       "    <tr>\n",
       "      <th>13</th>\n",
       "      <td>Algoritmo</td>\n",
       "      <td>APROVADO</td>\n",
       "    </tr>\n",
       "    <tr>\n",
       "      <th>14</th>\n",
       "      <td>Algoritmo</td>\n",
       "      <td>REPROVADO</td>\n",
       "    </tr>\n",
       "    <tr>\n",
       "      <th>15</th>\n",
       "      <td>Algoritmo</td>\n",
       "      <td>APROVADO</td>\n",
       "    </tr>\n",
       "    <tr>\n",
       "      <th>16</th>\n",
       "      <td>Algoritmo</td>\n",
       "      <td>APROVADO</td>\n",
       "    </tr>\n",
       "    <tr>\n",
       "      <th>17</th>\n",
       "      <td>Algoritmo</td>\n",
       "      <td>APROVADO</td>\n",
       "    </tr>\n",
       "    <tr>\n",
       "      <th>18</th>\n",
       "      <td>Algoritmo</td>\n",
       "      <td>APROVADO</td>\n",
       "    </tr>\n",
       "    <tr>\n",
       "      <th>19</th>\n",
       "      <td>Algoritmo</td>\n",
       "      <td>APROVADO</td>\n",
       "    </tr>\n",
       "    <tr>\n",
       "      <th>20</th>\n",
       "      <td>Algoritmo</td>\n",
       "      <td>REPROVADO</td>\n",
       "    </tr>\n",
       "    <tr>\n",
       "      <th>21</th>\n",
       "      <td>Algoritmo</td>\n",
       "      <td>APROVADO</td>\n",
       "    </tr>\n",
       "    <tr>\n",
       "      <th>22</th>\n",
       "      <td>Algoritmo</td>\n",
       "      <td>APROVADO</td>\n",
       "    </tr>\n",
       "    <tr>\n",
       "      <th>23</th>\n",
       "      <td>Algoritmo</td>\n",
       "      <td>APROVADO</td>\n",
       "    </tr>\n",
       "    <tr>\n",
       "      <th>24</th>\n",
       "      <td>Algoritmo</td>\n",
       "      <td>APROVADO</td>\n",
       "    </tr>\n",
       "    <tr>\n",
       "      <th>25</th>\n",
       "      <td>Algoritmo</td>\n",
       "      <td>APROVADO</td>\n",
       "    </tr>\n",
       "    <tr>\n",
       "      <th>26</th>\n",
       "      <td>Algoritmo</td>\n",
       "      <td>APROVADO</td>\n",
       "    </tr>\n",
       "    <tr>\n",
       "      <th>27</th>\n",
       "      <td>Algoritmo</td>\n",
       "      <td>APROVADO</td>\n",
       "    </tr>\n",
       "    <tr>\n",
       "      <th>28</th>\n",
       "      <td>Algoritmo</td>\n",
       "      <td>APROVADO</td>\n",
       "    </tr>\n",
       "    <tr>\n",
       "      <th>29</th>\n",
       "      <td>Algoritmo</td>\n",
       "      <td>APROVADO</td>\n",
       "    </tr>\n",
       "    <tr>\n",
       "      <th>...</th>\n",
       "      <td>...</td>\n",
       "      <td>...</td>\n",
       "    </tr>\n",
       "    <tr>\n",
       "      <th>10465</th>\n",
       "      <td>Qualidade_de_Software</td>\n",
       "      <td>REPROVADO</td>\n",
       "    </tr>\n",
       "    <tr>\n",
       "      <th>10466</th>\n",
       "      <td>Qualidade_de_Software</td>\n",
       "      <td>REPROVADO</td>\n",
       "    </tr>\n",
       "    <tr>\n",
       "      <th>10467</th>\n",
       "      <td>Qualidade_de_Software</td>\n",
       "      <td>APROVADO</td>\n",
       "    </tr>\n",
       "    <tr>\n",
       "      <th>10468</th>\n",
       "      <td>Qualidade_de_Software</td>\n",
       "      <td>APROVADO</td>\n",
       "    </tr>\n",
       "    <tr>\n",
       "      <th>10469</th>\n",
       "      <td>Qualidade_de_Software</td>\n",
       "      <td>APROVADO</td>\n",
       "    </tr>\n",
       "    <tr>\n",
       "      <th>10470</th>\n",
       "      <td>Qualidade_de_Software</td>\n",
       "      <td>APROVADO</td>\n",
       "    </tr>\n",
       "    <tr>\n",
       "      <th>10471</th>\n",
       "      <td>Qualidade_de_Software</td>\n",
       "      <td>APROVADO</td>\n",
       "    </tr>\n",
       "    <tr>\n",
       "      <th>10472</th>\n",
       "      <td>Qualidade_de_Software</td>\n",
       "      <td>APROVADO</td>\n",
       "    </tr>\n",
       "    <tr>\n",
       "      <th>10473</th>\n",
       "      <td>Qualidade_de_Software</td>\n",
       "      <td>APROVADO</td>\n",
       "    </tr>\n",
       "    <tr>\n",
       "      <th>10474</th>\n",
       "      <td>Qualidade_de_Software</td>\n",
       "      <td>APROVADO</td>\n",
       "    </tr>\n",
       "    <tr>\n",
       "      <th>10475</th>\n",
       "      <td>Qualidade_de_Software</td>\n",
       "      <td>APROVADO</td>\n",
       "    </tr>\n",
       "    <tr>\n",
       "      <th>10476</th>\n",
       "      <td>Qualidade_de_Software</td>\n",
       "      <td>APROVADO</td>\n",
       "    </tr>\n",
       "    <tr>\n",
       "      <th>10477</th>\n",
       "      <td>Qualidade_de_Software</td>\n",
       "      <td>APROVADO</td>\n",
       "    </tr>\n",
       "    <tr>\n",
       "      <th>10478</th>\n",
       "      <td>Qualidade_de_Software</td>\n",
       "      <td>APROVADO</td>\n",
       "    </tr>\n",
       "    <tr>\n",
       "      <th>10479</th>\n",
       "      <td>Qualidade_de_Software</td>\n",
       "      <td>APROVADO</td>\n",
       "    </tr>\n",
       "    <tr>\n",
       "      <th>10480</th>\n",
       "      <td>Qualidade_de_Software</td>\n",
       "      <td>REPROVADO</td>\n",
       "    </tr>\n",
       "    <tr>\n",
       "      <th>10481</th>\n",
       "      <td>Qualidade_de_Software</td>\n",
       "      <td>APROVADO</td>\n",
       "    </tr>\n",
       "    <tr>\n",
       "      <th>10482</th>\n",
       "      <td>Qualidade_de_Software</td>\n",
       "      <td>APROVADO</td>\n",
       "    </tr>\n",
       "    <tr>\n",
       "      <th>10483</th>\n",
       "      <td>Qualidade_de_Software</td>\n",
       "      <td>REPROVADO</td>\n",
       "    </tr>\n",
       "    <tr>\n",
       "      <th>10484</th>\n",
       "      <td>Qualidade_de_Software</td>\n",
       "      <td>APROVADO</td>\n",
       "    </tr>\n",
       "    <tr>\n",
       "      <th>10485</th>\n",
       "      <td>Qualidade_de_Software</td>\n",
       "      <td>APROVADO</td>\n",
       "    </tr>\n",
       "    <tr>\n",
       "      <th>10486</th>\n",
       "      <td>Qualidade_de_Software</td>\n",
       "      <td>APROVADO</td>\n",
       "    </tr>\n",
       "    <tr>\n",
       "      <th>10487</th>\n",
       "      <td>Qualidade_de_Software</td>\n",
       "      <td>REPROVADO</td>\n",
       "    </tr>\n",
       "    <tr>\n",
       "      <th>10488</th>\n",
       "      <td>Qualidade_de_Software</td>\n",
       "      <td>APROVADO</td>\n",
       "    </tr>\n",
       "    <tr>\n",
       "      <th>10489</th>\n",
       "      <td>Qualidade_de_Software</td>\n",
       "      <td>APROVADO</td>\n",
       "    </tr>\n",
       "    <tr>\n",
       "      <th>10490</th>\n",
       "      <td>Qualidade_de_Software</td>\n",
       "      <td>REPROVADO</td>\n",
       "    </tr>\n",
       "    <tr>\n",
       "      <th>10491</th>\n",
       "      <td>Qualidade_de_Software</td>\n",
       "      <td>MATRICULADO</td>\n",
       "    </tr>\n",
       "    <tr>\n",
       "      <th>10492</th>\n",
       "      <td>Qualidade_de_Software</td>\n",
       "      <td>MATRICULADO</td>\n",
       "    </tr>\n",
       "    <tr>\n",
       "      <th>10493</th>\n",
       "      <td>Qualidade_de_Software</td>\n",
       "      <td>MATRICULADO</td>\n",
       "    </tr>\n",
       "    <tr>\n",
       "      <th>10494</th>\n",
       "      <td>Qualidade_de_Software</td>\n",
       "      <td>MATRICULADO</td>\n",
       "    </tr>\n",
       "  </tbody>\n",
       "</table>\n",
       "<p>10495 rows × 2 columns</p>\n",
       "</div>"
      ],
      "text/plain": [
       "                  disciplina situacaoDisciplina\n",
       "0                  Algoritmo           APROVADO\n",
       "1                  Algoritmo          REPROVADO\n",
       "2                  Algoritmo          REPROVADO\n",
       "3                  Algoritmo           APROVADO\n",
       "4                  Algoritmo           APROVADO\n",
       "5                  Algoritmo           APROVADO\n",
       "6                  Algoritmo           APROVADO\n",
       "7                  Algoritmo           APROVADO\n",
       "8                  Algoritmo          REPROVADO\n",
       "9                  Algoritmo           APROVADO\n",
       "10                 Algoritmo           APROVADO\n",
       "11                 Algoritmo          REPROVADO\n",
       "12                 Algoritmo           APROVADO\n",
       "13                 Algoritmo           APROVADO\n",
       "14                 Algoritmo          REPROVADO\n",
       "15                 Algoritmo           APROVADO\n",
       "16                 Algoritmo           APROVADO\n",
       "17                 Algoritmo           APROVADO\n",
       "18                 Algoritmo           APROVADO\n",
       "19                 Algoritmo           APROVADO\n",
       "20                 Algoritmo          REPROVADO\n",
       "21                 Algoritmo           APROVADO\n",
       "22                 Algoritmo           APROVADO\n",
       "23                 Algoritmo           APROVADO\n",
       "24                 Algoritmo           APROVADO\n",
       "25                 Algoritmo           APROVADO\n",
       "26                 Algoritmo           APROVADO\n",
       "27                 Algoritmo           APROVADO\n",
       "28                 Algoritmo           APROVADO\n",
       "29                 Algoritmo           APROVADO\n",
       "...                      ...                ...\n",
       "10465  Qualidade_de_Software          REPROVADO\n",
       "10466  Qualidade_de_Software          REPROVADO\n",
       "10467  Qualidade_de_Software           APROVADO\n",
       "10468  Qualidade_de_Software           APROVADO\n",
       "10469  Qualidade_de_Software           APROVADO\n",
       "10470  Qualidade_de_Software           APROVADO\n",
       "10471  Qualidade_de_Software           APROVADO\n",
       "10472  Qualidade_de_Software           APROVADO\n",
       "10473  Qualidade_de_Software           APROVADO\n",
       "10474  Qualidade_de_Software           APROVADO\n",
       "10475  Qualidade_de_Software           APROVADO\n",
       "10476  Qualidade_de_Software           APROVADO\n",
       "10477  Qualidade_de_Software           APROVADO\n",
       "10478  Qualidade_de_Software           APROVADO\n",
       "10479  Qualidade_de_Software           APROVADO\n",
       "10480  Qualidade_de_Software          REPROVADO\n",
       "10481  Qualidade_de_Software           APROVADO\n",
       "10482  Qualidade_de_Software           APROVADO\n",
       "10483  Qualidade_de_Software          REPROVADO\n",
       "10484  Qualidade_de_Software           APROVADO\n",
       "10485  Qualidade_de_Software           APROVADO\n",
       "10486  Qualidade_de_Software           APROVADO\n",
       "10487  Qualidade_de_Software          REPROVADO\n",
       "10488  Qualidade_de_Software           APROVADO\n",
       "10489  Qualidade_de_Software           APROVADO\n",
       "10490  Qualidade_de_Software          REPROVADO\n",
       "10491  Qualidade_de_Software        MATRICULADO\n",
       "10492  Qualidade_de_Software        MATRICULADO\n",
       "10493  Qualidade_de_Software        MATRICULADO\n",
       "10494  Qualidade_de_Software        MATRICULADO\n",
       "\n",
       "[10495 rows x 2 columns]"
      ]
     },
     "execution_count": 5,
     "metadata": {},
     "output_type": "execute_result"
    }
   ],
   "source": [
    "dados"
   ]
  },
  {
   "cell_type": "code",
   "execution_count": null,
   "metadata": {},
   "outputs": [],
   "source": []
  },
  {
   "cell_type": "markdown",
   "metadata": {},
   "source": [
    "##### Contando Cada Situação Possivel (APROVADO e REPROVADO)"
   ]
  },
  {
   "cell_type": "code",
   "execution_count": 6,
   "metadata": {},
   "outputs": [
    {
     "data": {
      "text/plain": [
       "10495"
      ]
     },
     "execution_count": 6,
     "metadata": {},
     "output_type": "execute_result"
    }
   ],
   "source": [
    "total=dados['situacaoDisciplina'].count()\n",
    "total"
   ]
  },
  {
   "cell_type": "code",
   "execution_count": 7,
   "metadata": {},
   "outputs": [
    {
     "data": {
      "text/plain": [
       "disciplina            5897\n",
       "situacaoDisciplina    5897\n",
       "dtype: int64"
      ]
     },
     "execution_count": 7,
     "metadata": {},
     "output_type": "execute_result"
    }
   ],
   "source": [
    "aprovado = dados[dados.situacaoDisciplina=='APROVADO'].count()\n",
    "aprovado"
   ]
  },
  {
   "cell_type": "code",
   "execution_count": 8,
   "metadata": {},
   "outputs": [
    {
     "data": {
      "text/plain": [
       "disciplina            3836\n",
       "situacaoDisciplina    3836\n",
       "dtype: int64"
      ]
     },
     "execution_count": 8,
     "metadata": {},
     "output_type": "execute_result"
    }
   ],
   "source": [
    "reprovado = dados[dados.situacaoDisciplina=='REPROVADO'].count()\n",
    "reprovado"
   ]
  },
  {
   "cell_type": "markdown",
   "metadata": {},
   "source": [
    "#### Probabilidade para cada disciplina"
   ]
  },
  {
   "cell_type": "code",
   "execution_count": 9,
   "metadata": {},
   "outputs": [],
   "source": [
    "def resultados(disciplinas): #disciplina,situacaoDisciplina\n",
    "    #print(disciplinas)\n",
    "    a = []\n",
    "        #for i in range(1):\n",
    "        #    probabilidadeTotal = dados.loc[(dados['disciplina']==disciplina)].count()\n",
    "        #    probabilidade = dados.loc[(dados['disciplina']==disciplina) & (dados['situacaoDisciplina']==situacaoDisciplina)].count()\n",
    "        #    a = probabilidade/probabilidadeTotal\n",
    "       \n",
    "        #    return \"A probabilidaded  aluno ser \",situacaoDisciplina,'em', disciplina, a[i],'%'\n",
    "        \n",
    "    for d in disciplinas:\n",
    "        probabilidadeTotal = dados.loc[(dados['disciplina']==d[0])].count()\n",
    "        probabilidade = dados.loc[(dados['disciplina']==d[0]) & (dados['situacaoDisciplina']==d[1])].count()\n",
    "        a.append([d[0], d[1], probabilidade/probabilidadeTotal])\n",
    "    \n",
    "    msg = \"\"\"A probabilidade do aluno obter um determinado resultado para as seguintes disciplinas:\n",
    "    |          Disciplina         |    Situação  |    Probabilidade    |\"\"\"\n",
    "    for i in a:\n",
    "        msg+= '           |           {0}           |   {1}  |    {2}'.format(i[0], i[1], i[2])\n",
    "\n",
    "    return msg\n"
   ]
  },
  {
   "cell_type": "code",
   "execution_count": 10,
   "metadata": {},
   "outputs": [
    {
     "data": {
      "text/plain": [
       "'A probabilidade do aluno obter um determinado resultado para as seguintes disciplinas:\\n    |          Disciplina         |    Situação  |    Probabilidade    |           |           Algoritmo           |   REPROVADO  |    disciplina            0.638509\\nsituacaoDisciplina    0.638509\\ndtype: float64           |           TGA           |   APROVADO  |    disciplina            0.803653\\nsituacaoDisciplina    0.803653\\ndtype: float64           |           Lingua_Portuguesa           |   APROVADO  |    disciplina            0.694624\\nsituacaoDisciplina    0.694624\\ndtype: float64           |           Qualidade_de_Software           |   REPROVADO  |    disciplina            0.132353\\nsituacaoDisciplina    0.132353\\ndtype: float64'"
      ]
     },
     "execution_count": 10,
     "metadata": {},
     "output_type": "execute_result"
    }
   ],
   "source": [
    "resultados([('Algoritmo','REPROVADO'), ('TGA','APROVADO'),('Lingua_Portuguesa','APROVADO'),('Qualidade_de_Software','REPROVADO')])"
   ]
  },
  {
   "cell_type": "code",
   "execution_count": 11,
   "metadata": {},
   "outputs": [],
   "source": [
    "b=[('Algoritmo','REPROVADO'), ('TGA','APROVADO'),('Lingua_Portuguesa','APROVADO')]"
   ]
  },
  {
   "cell_type": "code",
   "execution_count": 12,
   "metadata": {},
   "outputs": [
    {
     "data": {
      "text/plain": [
       "'A probabilidade do aluno obter um determinado resultado para as seguintes disciplinas:\\n    |          Disciplina         |    Situação  |    Probabilidade    |           |           Algoritmo           |   REPROVADO  |    disciplina            0.638509\\nsituacaoDisciplina    0.638509\\ndtype: float64           |           TGA           |   APROVADO  |    disciplina            0.803653\\nsituacaoDisciplina    0.803653\\ndtype: float64           |           Lingua_Portuguesa           |   APROVADO  |    disciplina            0.694624\\nsituacaoDisciplina    0.694624\\ndtype: float64'"
      ]
     },
     "execution_count": 12,
     "metadata": {},
     "output_type": "execute_result"
    }
   ],
   "source": [
    "resultados(b)"
   ]
  },
  {
   "cell_type": "code",
   "execution_count": 13,
   "metadata": {},
   "outputs": [
    {
     "data": {
      "text/plain": [
       "<pandas.core.groupby.DataFrameGroupBy object at 0x7f9e580329e8>"
      ]
     },
     "execution_count": 13,
     "metadata": {},
     "output_type": "execute_result"
    }
   ],
   "source": [
    "resultado = dados.groupby(['disciplina'])\n",
    "    \n",
    "resultado"
   ]
  },
  {
   "cell_type": "code",
   "execution_count": null,
   "metadata": {},
   "outputs": [],
   "source": []
  }
 ],
 "metadata": {
  "kernelspec": {
   "display_name": "Python 3",
   "language": "python",
   "name": "python3"
  },
  "language_info": {
   "codemirror_mode": {
    "name": "ipython",
    "version": 3
   },
   "file_extension": ".py",
   "mimetype": "text/x-python",
   "name": "python",
   "nbconvert_exporter": "python",
   "pygments_lexer": "ipython3",
   "version": "3.6.4"
  }
 },
 "nbformat": 4,
 "nbformat_minor": 2
}
