{
 "cells": [
  {
   "cell_type": "markdown",
   "metadata": {},
   "source": [
    "# SASA - SISTEMA DE ANALISE DE SISTUAÇÕES ACADEMICA"
   ]
  },
  {
   "cell_type": "code",
   "execution_count": 1,
   "metadata": {},
   "outputs": [],
   "source": [
    "import pandas as pd\n",
    "import numpy as np"
   ]
  },
  {
   "cell_type": "markdown",
   "metadata": {},
   "source": [
    "### Lendo os dados"
   ]
  },
  {
   "cell_type": "code",
   "execution_count": 2,
   "metadata": {},
   "outputs": [],
   "source": [
    "dados = pd.read_csv('dateset.csv')"
   ]
  },
  {
   "cell_type": "code",
   "execution_count": 3,
   "metadata": {},
   "outputs": [],
   "source": [
    "date = pd.DataFrame(dados)"
   ]
  },
  {
   "cell_type": "code",
   "execution_count": 4,
   "metadata": {},
   "outputs": [],
   "source": [
    "grouped = date.groupby('disciplina')"
   ]
  },
  {
   "cell_type": "code",
   "execution_count": 5,
   "metadata": {},
   "outputs": [
    {
     "data": {
      "text/plain": [
       "<pandas.core.groupby.DataFrameGroupBy object at 0x7ff05c227208>"
      ]
     },
     "execution_count": 5,
     "metadata": {},
     "output_type": "execute_result"
    }
   ],
   "source": [
    "grouped"
   ]
  },
  {
   "cell_type": "markdown",
   "metadata": {},
   "source": [
    "##### Contando Cada Situação Possivel (APROVADO e REPROVADO)"
   ]
  },
  {
   "cell_type": "code",
   "execution_count": 6,
   "metadata": {},
   "outputs": [],
   "source": [
    "total=dados['situacaoDisciplina'].count()"
   ]
  },
  {
   "cell_type": "code",
   "execution_count": 7,
   "metadata": {},
   "outputs": [],
   "source": [
    "aprovado = dados[dados.situacaoDisciplina=='APROVADO'].count()"
   ]
  },
  {
   "cell_type": "code",
   "execution_count": 8,
   "metadata": {},
   "outputs": [],
   "source": [
    "reprovado = dados[dados.situacaoDisciplina=='REPROVADO'].count()"
   ]
  },
  {
   "cell_type": "markdown",
   "metadata": {},
   "source": [
    "#### Probabilidade para cada disciplina"
   ]
  },
  {
   "cell_type": "code",
   "execution_count": 9,
   "metadata": {},
   "outputs": [],
   "source": [
    "def resultados(disciplinas): #disciplina,situacaoDisciplina\n",
    "    #print(disciplinas)\n",
    "    a = []\n",
    "        #for i in range(1):\n",
    "        #    probabilidadeTotal = dados.loc[(dados['disciplina']==disciplina)].count()\n",
    "        #    probabilidade = dados.loc[(dados['disciplina']==disciplina) & (dados['situacaoDisciplina']==situacaoDisciplina)].count()\n",
    "        #    a = probabilidade/probabilidadeTotal\n",
    "       \n",
    "        #    return \"A probabilidaded  aluno ser \",situacaoDisciplina,'em', disciplina, a[i],'%'\n",
    "        \n",
    "    for d in disciplinas:\n",
    "        probabilidadeTotal = dados.loc[(dados['disciplina']==d[0])].count()\n",
    "        probabilidade = dados.loc[(dados['disciplina']==d[0]) & (dados['situacaoDisciplina']==d[1])].count()\n",
    "        a.append([d[0], d[1], probabilidade/probabilidadeTotal])\n",
    "    \n",
    "    msg = \"\"\"A probabilidade do aluno obter um determinado resultado para as seguintes disciplinas:\n",
    "    |          Disciplina         |    Situação  |    Probabilidade    |\"\"\"\n",
    "    for i in a:\n",
    "        msg+= '           |           {0}           |   {1}  |    {2}'.format(i[0], i[1], i[2])\n",
    "\n",
    "    return msg\n"
   ]
  },
  {
   "cell_type": "code",
   "execution_count": 10,
   "metadata": {},
   "outputs": [
    {
     "data": {
      "text/plain": [
       "'A probabilidade do aluno obter um determinado resultado para as seguintes disciplinas:\\n    |          Disciplina         |    Situação  |    Probabilidade    |           |           Algoritmo           |   REPROVADO  |    disciplina            0.638509\\nsituacaoDisciplina    0.638509\\ndtype: float64           |           TGA           |   APROVADO  |    disciplina            0.803653\\nsituacaoDisciplina    0.803653\\ndtype: float64           |           Lingua_Portuguesa           |   APROVADO  |    disciplina            0.694624\\nsituacaoDisciplina    0.694624\\ndtype: float64'"
      ]
     },
     "execution_count": 10,
     "metadata": {},
     "output_type": "execute_result"
    }
   ],
   "source": [
    "resultados([('Algoritmo','REPROVADO'), ('TGA','APROVADO'),('Lingua_Portuguesa','APROVADO')])"
   ]
  },
  {
   "cell_type": "code",
   "execution_count": 15,
   "metadata": {},
   "outputs": [],
   "source": [
    "b=[('Algoritmo','REPROVADO'), ('TGA','APROVADO'),('Lingua_Portuguesa','APROVADO')]"
   ]
  },
  {
   "cell_type": "raw",
   "metadata": {},
   "source": []
  },
  {
   "cell_type": "code",
   "execution_count": null,
   "metadata": {},
   "outputs": [],
   "source": []
  }
 ],
 "metadata": {
  "kernelspec": {
   "display_name": "Python 3",
   "language": "python",
   "name": "python3"
  },
  "language_info": {
   "codemirror_mode": {
    "name": "ipython",
    "version": 3
   },
   "file_extension": ".py",
   "mimetype": "text/x-python",
   "name": "python",
   "nbconvert_exporter": "python",
   "pygments_lexer": "ipython3",
   "version": "3.6.4"
  }
 },
 "nbformat": 4,
 "nbformat_minor": 2
}
